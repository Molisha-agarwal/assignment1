{
  "nbformat": 4,
  "nbformat_minor": 0,
  "metadata": {
    "colab": {
      "provenance": []
    },
    "kernelspec": {
      "name": "python3",
      "display_name": "Python 3"
    },
    "language_info": {
      "name": "python"
    }
  },
  "cells": [
    {
      "cell_type": "markdown",
      "source": [
        "Basic Questions"
      ],
      "metadata": {
        "id": "Kw4kK9LdgqfJ"
      }
    },
    {
      "cell_type": "markdown",
      "source": [
        "Q-1:What is Python, and why is it popular"
      ],
      "metadata": {
        "id": "P9N2lPnqgxCG"
      }
    },
    {
      "cell_type": "markdown",
      "source": [
        "python is a widely used programming language in the industry,\n",
        "a lot of libraries are available,general purpose language,easy to use and understand."
      ],
      "metadata": {
        "id": "vqCilhk0g1gV"
      }
    },
    {
      "cell_type": "markdown",
      "source": [
        "Q-2:What is an interpreter in Python"
      ],
      "metadata": {
        "id": "EEVvVTjzhLyQ"
      }
    },
    {
      "cell_type": "markdown",
      "source": [
        "An interpreter in python compiles each single line of the code and generates an error everytime it compiles the code ."
      ],
      "metadata": {
        "id": "VcMqq8uehPz6"
      }
    },
    {
      "cell_type": "markdown",
      "source": [
        "Q-3:What are pre-defined keywords in Python"
      ],
      "metadata": {
        "id": "5ZaDQeaShnpJ"
      }
    },
    {
      "cell_type": "markdown",
      "source": [
        "keywords in python are the predefined words means already defined in the python language we cannot use literal as a keyword.eg- break,for,while etc"
      ],
      "metadata": {
        "id": "tlTCigvfhsFB"
      }
    },
    {
      "cell_type": "markdown",
      "source": [
        "Q-4:Can keywords be used as variable names"
      ],
      "metadata": {
        "id": "9tW6PP6Uh9As"
      }
    },
    {
      "cell_type": "markdown",
      "source": [
        "no keywords cannot be used as a variable name keywords are the predefined words already present in the python language."
      ],
      "metadata": {
        "id": "-5QKz0ZRiA99"
      }
    },
    {
      "cell_type": "markdown",
      "source": [
        "Q-5: What is mutability in Python"
      ],
      "metadata": {
        "id": "TsQUKTYIiNs9"
      }
    },
    {
      "cell_type": "markdown",
      "source": [
        "mutability means changing of the state and value of the mutable objects after they have been declared .list are the type of mutable object."
      ],
      "metadata": {
        "id": "H_8NU1kuiRd6"
      }
    },
    {
      "cell_type": "markdown",
      "source": [
        "Q-6:Why are lists mutable, but tuples are immutable"
      ],
      "metadata": {
        "id": "xtpkIz5Fiqio"
      }
    },
    {
      "cell_type": "markdown",
      "source": [
        "list are mutable objects we can modify their value and state after they have been declared where as tuples are immutable we cannot modify their value after their declaration."
      ],
      "metadata": {
        "id": "UVjociR3iw7o"
      }
    },
    {
      "cell_type": "markdown",
      "source": [
        "Q-7: What is the difference between “==” and “is” operators in Python\n"
      ],
      "metadata": {
        "id": "NU3Z9J-EjA5J"
      }
    },
    {
      "cell_type": "markdown",
      "source": [
        "== is a comparison operator as it compares two valus and return boolean value as  a result.\n",
        "'is' is a identity operator compares the memory location"
      ],
      "metadata": {
        "id": "u50b2d_fjE4V"
      }
    },
    {
      "cell_type": "markdown",
      "source": [
        "Q-8:What are logical operators in Python"
      ],
      "metadata": {
        "id": "STn_74jqjlVv"
      }
    },
    {
      "cell_type": "markdown",
      "source": [
        "logical operators are used logical comparisons using and ,or ,not\n",
        "logical and->a and b if both the condition a and b are true the logical and returns true\n",
        "logical or-> a or b if any one of the condition is true the logical or operator return true\n",
        "logical not-> not a it reverses the result of a if a is a true value then logical not returns false"
      ],
      "metadata": {
        "id": "0ck7W_ncjouq"
      }
    },
    {
      "cell_type": "markdown",
      "source": [
        "Q-9:What is type casting in Python\n"
      ],
      "metadata": {
        "id": "AAm9dyy7kURh"
      }
    },
    {
      "cell_type": "markdown",
      "source": [
        "typecasting in python is changing of one data type into another datatype\n",
        "typecasting can be done in two ways-\n",
        "implict typecasting and explicit typecasting"
      ],
      "metadata": {
        "id": "iNNtHI00kXzS"
      }
    },
    {
      "cell_type": "markdown",
      "source": [
        "Q-10: What is the difference between implicit and explicit type casting"
      ],
      "metadata": {
        "id": "zNTCiGXbknBT"
      }
    },
    {
      "cell_type": "markdown",
      "source": [
        "Implicit typecasting is done by the python interpreter only while explicit typecasting is done by the user manual conversion of the datatype"
      ],
      "metadata": {
        "id": "P2-AF51GkrEl"
      }
    },
    {
      "cell_type": "markdown",
      "source": [
        "Q-11: What is the purpose of conditional statements in Python"
      ],
      "metadata": {
        "id": "o6Uv-Mijk_HI"
      }
    },
    {
      "cell_type": "markdown",
      "source": [
        "conditional statements first check the condition and if the condition is true then the loop goes inside the body to execute the statements and if the condition is false then it executes the body of else statement if given eg-if,if else,if elif else."
      ],
      "metadata": {
        "id": "JXCwbF-flDLv"
      }
    },
    {
      "cell_type": "markdown",
      "source": [
        "Q-12:How does the elif statement work"
      ],
      "metadata": {
        "id": "FH7i-BRRlrkJ"
      }
    },
    {
      "cell_type": "markdown",
      "source": [
        "elif is a conditional statement first it checks the if condition if it is true then it executes the body of if and if it is false the loop checks the condition given in elif if it is true then body of elif is executed otherwise the loop executes the else statement"
      ],
      "metadata": {
        "id": "1DRrHa1vlvHI"
      }
    },
    {
      "cell_type": "markdown",
      "source": [
        "Q-13:What is the difference between for and while loops"
      ],
      "metadata": {
        "id": "_bZSWZUQmKIt"
      }
    },
    {
      "cell_type": "markdown",
      "source": [
        "for and while both are looping statements\n",
        "while execute a block of code repeatedly\n",
        "for iterates over sequence such as list,string,tuple"
      ],
      "metadata": {
        "id": "4rYQZ8JfmN0l"
      }
    },
    {
      "cell_type": "markdown",
      "source": [
        "Q-14: Describe a scenario where a while loop is more suitable than a for loop."
      ],
      "metadata": {
        "id": "O1tIvk9imoyV"
      }
    },
    {
      "cell_type": "markdown",
      "source": [
        "while loop is more suitable while printing a table"
      ],
      "metadata": {
        "id": "CeWhhuuCms02"
      }
    },
    {
      "cell_type": "markdown",
      "source": [
        "practical questions\n"
      ],
      "metadata": {
        "id": "tNTGRBUImqCo"
      }
    },
    {
      "cell_type": "markdown",
      "source": [
        "Q-1: Write a Python program to print \"Hello, World!"
      ],
      "metadata": {
        "id": "jVcU0IB0muIw"
      }
    },
    {
      "cell_type": "code",
      "source": [
        "print(\"Hello ,World!\")"
      ],
      "metadata": {
        "colab": {
          "base_uri": "https://localhost:8080/"
        },
        "id": "9dOngSv1m0eo",
        "outputId": "666c0755-c0d5-489b-def2-3887d1561752"
      },
      "execution_count": null,
      "outputs": [
        {
          "output_type": "stream",
          "name": "stdout",
          "text": [
            "Hello ,World!\n"
          ]
        }
      ]
    },
    {
      "cell_type": "markdown",
      "source": [
        "Q-2:Write a Python program that displays your name and age"
      ],
      "metadata": {
        "id": "XH3z_r9mm9VJ"
      }
    },
    {
      "cell_type": "code",
      "source": [
        "name=\"Molisha Agarwal\"\n",
        "age=21\n",
        "print(\"My name is\", name, \"and age is:\", age)"
      ],
      "metadata": {
        "colab": {
          "base_uri": "https://localhost:8080/"
        },
        "id": "Ij4l_2CYnCbl",
        "outputId": "e9484373-b724-47f8-f033-7129ca7f2c99"
      },
      "execution_count": null,
      "outputs": [
        {
          "output_type": "stream",
          "name": "stdout",
          "text": [
            "My name is Molisha Agarwal and age is: 21\n"
          ]
        }
      ]
    },
    {
      "cell_type": "markdown",
      "source": [
        "Q-3:Write code to print all the pre-defined keywords in Python using the keyword library"
      ],
      "metadata": {
        "id": "zVQmIl7qnu2q"
      }
    },
    {
      "cell_type": "code",
      "source": [
        "help(\"keywords\")"
      ],
      "metadata": {
        "colab": {
          "base_uri": "https://localhost:8080/"
        },
        "id": "eiWpoqihn0HO",
        "outputId": "920639aa-84a4-45a3-b833-9d3609f877be"
      },
      "execution_count": null,
      "outputs": [
        {
          "output_type": "stream",
          "name": "stdout",
          "text": [
            "\n",
            "Here is a list of the Python keywords.  Enter any keyword to get more help.\n",
            "\n",
            "False               class               from                or\n",
            "None                continue            global              pass\n",
            "True                def                 if                  raise\n",
            "and                 del                 import              return\n",
            "as                  elif                in                  try\n",
            "assert              else                is                  while\n",
            "async               except              lambda              with\n",
            "await               finally             nonlocal            yield\n",
            "break               for                 not                 \n",
            "\n"
          ]
        }
      ]
    },
    {
      "cell_type": "markdown",
      "source": [
        "Q-4: Write a program that checks if a given word is a Python keyword."
      ],
      "metadata": {
        "id": "0yA7ryXLn8uT"
      }
    },
    {
      "cell_type": "code",
      "source": [
        "import keyword\n",
        "def is_keyword(word):\n",
        "  return keyword.iskeyword(word)\n",
        "word=input(\"Enter the keyword\")\n",
        "if is_keyword(word):\n",
        "  print(word,\"is a keyword\")\n",
        "else:\n",
        "  print(word,\"is not a keyword\")\n",
        "\n",
        "\n"
      ],
      "metadata": {
        "id": "f5ldDoA8oBbu",
        "colab": {
          "base_uri": "https://localhost:8080/"
        },
        "outputId": "be2a1ba1-56ea-41e6-c406-0109ac3d5492"
      },
      "execution_count": null,
      "outputs": [
        {
          "output_type": "stream",
          "name": "stdout",
          "text": [
            "Enter the keywordawait\n",
            "await is a keyword\n"
          ]
        }
      ]
    },
    {
      "cell_type": "markdown",
      "source": [
        "Q-5: Create a list and tuple in Python, and demonstrate how attempting to change an element works differently\n",
        "for each"
      ],
      "metadata": {
        "id": "fT4QqHtDNWqg"
      }
    },
    {
      "cell_type": "code",
      "execution_count": null,
      "metadata": {
        "id": "ml6wgCkimhYG",
        "colab": {
          "base_uri": "https://localhost:8080/"
        },
        "outputId": "11c0472a-3560-4715-90a0-bd24e0de1dcd"
      },
      "outputs": [
        {
          "output_type": "execute_result",
          "data": {
            "text/plain": [
              "[1, 4, 3, 4]"
            ]
          },
          "metadata": {},
          "execution_count": 1
        }
      ],
      "source": [
        "list=[1,2,3,4]\n",
        "tuple=(5,6,7,8)\n",
        "list[1]=4\n",
        "list\n",
        "\n",
        "\n"
      ]
    },
    {
      "cell_type": "code",
      "source": [
        "tuple[1]=4\n",
        "tuple"
      ],
      "metadata": {
        "colab": {
          "base_uri": "https://localhost:8080/",
          "height": 158
        },
        "id": "vtLbLqaWUpbV",
        "outputId": "abed2420-e49a-4146-e74f-b60777df9d8a"
      },
      "execution_count": null,
      "outputs": [
        {
          "output_type": "error",
          "ename": "TypeError",
          "evalue": "'tuple' object does not support item assignment",
          "traceback": [
            "\u001b[0;31m---------------------------------------------------------------------------\u001b[0m",
            "\u001b[0;31mTypeError\u001b[0m                                 Traceback (most recent call last)",
            "\u001b[0;32m<ipython-input-2-6f2ba12f3e91>\u001b[0m in \u001b[0;36m<cell line: 0>\u001b[0;34m()\u001b[0m\n\u001b[0;32m----> 1\u001b[0;31m \u001b[0mtuple\u001b[0m\u001b[0;34m[\u001b[0m\u001b[0;36m1\u001b[0m\u001b[0;34m]\u001b[0m\u001b[0;34m=\u001b[0m\u001b[0;36m4\u001b[0m\u001b[0;34m\u001b[0m\u001b[0;34m\u001b[0m\u001b[0m\n\u001b[0m\u001b[1;32m      2\u001b[0m \u001b[0mtuple\u001b[0m\u001b[0;34m\u001b[0m\u001b[0;34m\u001b[0m\u001b[0m\n",
            "\u001b[0;31mTypeError\u001b[0m: 'tuple' object does not support item assignment"
          ]
        }
      ]
    },
    {
      "cell_type": "markdown",
      "source": [
        "Q-6: Write a function to demonstrate the behavior of mutable and immutable arguments."
      ],
      "metadata": {
        "id": "M5PtWPWCUzXb"
      }
    },
    {
      "cell_type": "code",
      "source": [
        "\n"
      ],
      "metadata": {
        "id": "p8JwGQR0U5mK"
      },
      "execution_count": null,
      "outputs": []
    },
    {
      "cell_type": "markdown",
      "source": [
        "Q-7:Write a program that performs basic arithmetic operations on two user-input numbers.\n",
        "\n"
      ],
      "metadata": {
        "id": "cGcBQzyzWV81"
      }
    },
    {
      "cell_type": "code",
      "source": [
        "a=int(input(\"Enter the first number\"))\n",
        "b=int(input(\"Enter the second number\"))\n",
        "c=a+b\n",
        "c\n"
      ],
      "metadata": {
        "colab": {
          "base_uri": "https://localhost:8080/"
        },
        "id": "gEQSLWMkWYVa",
        "outputId": "343fee92-910a-4791-954a-39e75fa40485"
      },
      "execution_count": null,
      "outputs": [
        {
          "name": "stdout",
          "output_type": "stream",
          "text": [
            "Enter the first number10\n",
            "Enter the second number20\n"
          ]
        },
        {
          "output_type": "execute_result",
          "data": {
            "text/plain": [
              "30"
            ]
          },
          "metadata": {},
          "execution_count": 4
        }
      ]
    },
    {
      "cell_type": "markdown",
      "source": [
        "Q-8: Write a program to demonstrate the use of logical operators.\n"
      ],
      "metadata": {
        "id": "iZlreHWVWv5R"
      }
    },
    {
      "cell_type": "code",
      "source": [
        "def logical_demo():\n",
        "  a=True\n",
        "  b=False\n",
        "  print(\"a is\",a)\n",
        "  print(\"b is\",b)\n",
        "  print(\"a and b is\",a and b)\n",
        "  print(\"a or b is\",a or b)\n",
        "  print(\"not a is\",not a)\n",
        "  print(\"not b is\",not b)\n",
        "logical_demo()\n",
        "\n"
      ],
      "metadata": {
        "colab": {
          "base_uri": "https://localhost:8080/"
        },
        "id": "gZ5Q5slPW4a1",
        "outputId": "07586e40-7e27-4112-fc76-1edcfb9183b0"
      },
      "execution_count": null,
      "outputs": [
        {
          "output_type": "stream",
          "name": "stdout",
          "text": [
            "a is True\n",
            "b is False\n",
            "a and b is False\n",
            "a or b is True\n",
            "not a is False\n",
            "not b is True\n"
          ]
        }
      ]
    },
    {
      "cell_type": "markdown",
      "source": [
        "Q-9: Write a Python program to convert user input from string to integer, float, and boolean types."
      ],
      "metadata": {
        "id": "DU722_KfYCx6"
      }
    },
    {
      "cell_type": "code",
      "source": [
        "a=input(\"Enter the string\")\n",
        "b=int(a)\n",
        "print(b)\n",
        "c=float(a)\n",
        "print(c)\n",
        "d=bool(a)\n",
        "print(d)"
      ],
      "metadata": {
        "colab": {
          "base_uri": "https://localhost:8080/",
          "height": 228
        },
        "id": "8AgAMUEoYHZl",
        "outputId": "4b00a7f7-7c5e-4fe0-b15d-4e11fb75a4e1"
      },
      "execution_count": null,
      "outputs": [
        {
          "name": "stdout",
          "output_type": "stream",
          "text": [
            "Enter the stringmolisha\n"
          ]
        },
        {
          "output_type": "error",
          "ename": "ValueError",
          "evalue": "could not convert string to float: 'molisha'",
          "traceback": [
            "\u001b[0;31m---------------------------------------------------------------------------\u001b[0m",
            "\u001b[0;31mValueError\u001b[0m                                Traceback (most recent call last)",
            "\u001b[0;32m<ipython-input-9-421c0a8a6cf8>\u001b[0m in \u001b[0;36m<cell line: 0>\u001b[0;34m()\u001b[0m\n\u001b[1;32m      2\u001b[0m \u001b[0;31m#b=int(a)\u001b[0m\u001b[0;34m\u001b[0m\u001b[0;34m\u001b[0m\u001b[0m\n\u001b[1;32m      3\u001b[0m \u001b[0;31m#print(b)\u001b[0m\u001b[0;34m\u001b[0m\u001b[0;34m\u001b[0m\u001b[0m\n\u001b[0;32m----> 4\u001b[0;31m \u001b[0mc\u001b[0m\u001b[0;34m=\u001b[0m\u001b[0mfloat\u001b[0m\u001b[0;34m(\u001b[0m\u001b[0ma\u001b[0m\u001b[0;34m)\u001b[0m\u001b[0;34m\u001b[0m\u001b[0;34m\u001b[0m\u001b[0m\n\u001b[0m\u001b[1;32m      5\u001b[0m \u001b[0mprint\u001b[0m\u001b[0;34m(\u001b[0m\u001b[0mc\u001b[0m\u001b[0;34m)\u001b[0m\u001b[0;34m\u001b[0m\u001b[0;34m\u001b[0m\u001b[0m\n\u001b[1;32m      6\u001b[0m \u001b[0md\u001b[0m\u001b[0;34m=\u001b[0m\u001b[0mbool\u001b[0m\u001b[0;34m(\u001b[0m\u001b[0ma\u001b[0m\u001b[0;34m)\u001b[0m\u001b[0;34m\u001b[0m\u001b[0;34m\u001b[0m\u001b[0m\n",
            "\u001b[0;31mValueError\u001b[0m: could not convert string to float: 'molisha'"
          ]
        }
      ]
    },
    {
      "cell_type": "markdown",
      "source": [
        "Q-10:Write code to demonstrate type casting with list elements."
      ],
      "metadata": {
        "id": "R1oc0gh6Y8Ge"
      }
    },
    {
      "cell_type": "code",
      "source": [
        "l=[1,2,3,\"molisha\",\"pwskills\"]\n",
        "# convert to tuple\n",
        "t=tuple(l)\n",
        "print(t)\n",
        "# convert to set\n",
        "s=set(l)\n",
        "print(s)\n"
      ],
      "metadata": {
        "colab": {
          "base_uri": "https://localhost:8080/"
        },
        "id": "QlPGtu20ZAlr",
        "outputId": "08020f16-08de-4095-b673-dd04d2889f42"
      },
      "execution_count": null,
      "outputs": [
        {
          "output_type": "stream",
          "name": "stdout",
          "text": [
            "{1, 2, 3, 'pwskills', 'molisha'}\n"
          ]
        }
      ]
    },
    {
      "cell_type": "markdown",
      "source": [
        "Q-11:Write a program that checks if a number is positive, negative, or zero.\n",
        "\n"
      ],
      "metadata": {
        "id": "uxltGQULaZtL"
      }
    },
    {
      "cell_type": "code",
      "source": [
        "\n",
        "def check_number(num):\n",
        "  if num>0:\n",
        "    print(num,\"is the  positive number\")\n",
        "  elif num<0:\n",
        "    print(num,\"is the negative number\")\n",
        "  else:\n",
        "    print(num,\" is zero\")\n",
        "\n",
        "check_number(2)\n"
      ],
      "metadata": {
        "colab": {
          "base_uri": "https://localhost:8080/"
        },
        "id": "7Mbk_sAYae-N",
        "outputId": "7ef5653c-7e56-4753-f5e4-15b6004bd252"
      },
      "execution_count": null,
      "outputs": [
        {
          "output_type": "stream",
          "name": "stdout",
          "text": [
            "2 is the  positive number\n"
          ]
        }
      ]
    },
    {
      "cell_type": "markdown",
      "source": [
        "Q-12:Write a for loop to print numbers from 1 to 10."
      ],
      "metadata": {
        "id": "-m5uhm76bcLA"
      }
    },
    {
      "cell_type": "code",
      "source": [
        "for i in range(1,11):\n",
        "\n",
        "  print(i)"
      ],
      "metadata": {
        "colab": {
          "base_uri": "https://localhost:8080/"
        },
        "id": "XBsqLzuqbikt",
        "outputId": "8cdc1523-53e0-4355-b9c6-87870e86f8b3"
      },
      "execution_count": null,
      "outputs": [
        {
          "output_type": "stream",
          "name": "stdout",
          "text": [
            "1\n",
            "2\n",
            "3\n",
            "4\n",
            "5\n",
            "6\n",
            "7\n",
            "8\n",
            "9\n",
            "10\n"
          ]
        }
      ]
    },
    {
      "cell_type": "markdown",
      "source": [
        "Q-13:Write a Python program to find the sum of all even numbers between 1 and 50."
      ],
      "metadata": {
        "id": "qXs0CjESbsRf"
      }
    },
    {
      "cell_type": "code",
      "source": [
        "def sum_even():\n",
        "  sum=0\n",
        "  for i in range(1,51):\n",
        "    if i%2==0:\n",
        "      sum=sum+i\n",
        "  return sum\n",
        "sum_even()"
      ],
      "metadata": {
        "colab": {
          "base_uri": "https://localhost:8080/"
        },
        "id": "ErGmtMmybwV2",
        "outputId": "5a1304ba-cd24-4543-f419-b3d0bdf6684e"
      },
      "execution_count": null,
      "outputs": [
        {
          "output_type": "execute_result",
          "data": {
            "text/plain": [
              "650"
            ]
          },
          "metadata": {},
          "execution_count": 20
        }
      ]
    },
    {
      "cell_type": "markdown",
      "source": [
        "Q-14:Write a program to reverse a string using a while loop."
      ],
      "metadata": {
        "id": "GRFNuZGLcHdi"
      }
    },
    {
      "cell_type": "code",
      "source": [
        "string=input(\"Enter the string\")\n",
        "while type(string):\n",
        "  print(string[::-1])\n",
        "  break\n",
        "\n",
        "\n",
        "\n"
      ],
      "metadata": {
        "colab": {
          "base_uri": "https://localhost:8080/"
        },
        "id": "pRXXW14BcL_X",
        "outputId": "5b25bfca-1045-44be-face-83e07d4738c9"
      },
      "execution_count": null,
      "outputs": [
        {
          "output_type": "stream",
          "name": "stdout",
          "text": [
            "Enter the stringmolisha\n",
            "ahsilom\n"
          ]
        }
      ]
    },
    {
      "cell_type": "markdown",
      "source": [
        "Q-15:Write a Python program to calculate the factorial of a number provided by the user using a while loop."
      ],
      "metadata": {
        "id": "pX3VTZjKdLIg"
      }
    },
    {
      "cell_type": "code",
      "source": [
        "def factorial_number(num):\n",
        "  fact=1\n",
        "  if num==0:\n",
        "      print(fact)\n",
        "\n",
        "  while num>0:\n",
        "      fact=fact*num\n",
        "      num=num-1\n",
        "  return fact\n",
        "\n",
        "factorial_number(5)\n"
      ],
      "metadata": {
        "colab": {
          "base_uri": "https://localhost:8080/"
        },
        "id": "mUT72ylwdPyL",
        "outputId": "fe1fbe9a-80ea-47a1-a741-9978ccb5c22b"
      },
      "execution_count": null,
      "outputs": [
        {
          "output_type": "execute_result",
          "data": {
            "text/plain": [
              "120"
            ]
          },
          "metadata": {},
          "execution_count": 32
        }
      ]
    },
    {
      "cell_type": "markdown",
      "source": [],
      "metadata": {
        "id": "9lVpFtu_W3ij"
      }
    }
  ]
}